{
 "cells": [
  {
   "cell_type": "markdown",
   "metadata": {},
   "source": [
    "# In Class Lab 1\n",
    "\n",
    "### Due by 5 PM Jan 31st in your github repository 'Labs/Lab1' folder\n",
    "\n",
    "## Part A:  The Local Standard of Rest\n",
    "Proper motion of Sgr A* from Reid & Brunthaler 2004\n",
    "$\\mu = 6.379$ mas/yr \n",
    "\n",
    "Peculiar motion of the sun, $v_\\odot$ = 12.24 km/s  (Schonrich 2010)\n",
    "\n",
    "\n",
    "$v_{tan} = 4.74 \\frac{\\mu}{\\rm mas/yr} \\frac{R_o}{\\rm kpc} = V_{LSR} + v_\\odot$\n",
    "\n",
    "\n",
    "### a)\n",
    "\n",
    "Create a function called VLSR to compute the local standard of res (V$_{LSR}$).\n",
    "\n",
    "The function should take as input: the solar radius (R$_o$), the proper motion (mu)\n",
    "and the peculiar motion of the sun in the $v_\\odot$ direction.\n",
    "\n",
    "Compute V$_{LSR}$ using three different values R$_o$: \n",
    "1. Water Maser Distance for the Sun :  R$_o$ = 8.34 kpc   (Reid 2014 ApJ 783) \n",
    "2. GRAVITY Collaboration Distance for the Sun:  R$_o$ = 8.178 kpc   (Abuter+2019 A&A 625)\n",
    "3. Value for Distance to Sun listed in Sparke & Gallagher : R$_o$ = 7.9 kpc \n"
   ]
  },
  {
   "cell_type": "code",
   "execution_count": 1,
   "metadata": {},
   "outputs": [],
   "source": [
    "# Import Modules \n",
    "import numpy as np # import numpy\n",
    "import astropy.units as u # import astropy units\n",
    "from astropy import constants as const # import astropy constants"
   ]
  },
  {
   "cell_type": "code",
   "execution_count": 2,
   "metadata": {},
   "outputs": [],
   "source": [
    "def VLSR(R,mu=6.379,v=12.24*u.km/u.s):\n",
    "    \"\"\"this funtion will calculate Velocity at local standard of rest\n",
    "            VLSR = 4.74*mu*R-v\n",
    "    inputs: \n",
    "        R:'astropy quantitity'\n",
    "            The distance of the sun to the glactic center in kpc\n",
    "        mu:'float'\n",
    "            Proper motion of the sun, default=6.379 mas/yr (Reid & Brunthaler 2004)\n",
    "        v:'astropy quantity'\n",
    "            peculiar motion of sun, default = 12.24 km/s (Schonrich 2010)\n",
    "    Output:\n",
    "        VLSR:'astropy quantity'\n",
    "            velocity at local standard rest, in units of km/s\n",
    "    \"\"\"\n",
    "    \n",
    "    vtan = (4.74 * (mu) *(R/u.kpc))*u.km/u.s\n",
    "    \"\"\"Calculating tangential velocity of sun using the equation listed above using the proper motion\n",
    "    and the solar radius, as well as dividing the solar radius by kpc so it becomes unitless and giving proper\n",
    "    units of km / s\"\"\"\n",
    "    VLSR = (vtan-v) #subtracting tangential velocity of sun by the peculiar motion\n",
    "    return VLSR #returning VLSR alone\n",
    "\n",
    "RoWATER = 8.34*u.kpc\n",
    "RoGRAVITY = 8.178*u.kpc\n",
    "RoSpGa = 7.9*u.kpc #storing different solar radius from galactic center for use "
   ]
  },
  {
   "cell_type": "code",
   "execution_count": 3,
   "metadata": {},
   "outputs": [
    {
     "name": "stdout",
     "output_type": "stream",
     "text": [
      "240.0 km / s\n"
     ]
    }
   ],
   "source": [
    "print(np.round(VLSR(RoWATER)))"
   ]
  },
  {
   "cell_type": "code",
   "execution_count": 4,
   "metadata": {},
   "outputs": [
    {
     "name": "stdout",
     "output_type": "stream",
     "text": [
      "235.0 km / s\n"
     ]
    }
   ],
   "source": [
    "print(np.round(VLSR(RoGRAVITY)))"
   ]
  },
  {
   "cell_type": "code",
   "execution_count": 5,
   "metadata": {},
   "outputs": [
    {
     "name": "stdout",
     "output_type": "stream",
     "text": [
      "227.0 km / s\n"
     ]
    }
   ],
   "source": [
    "print(np.round(VLSR(RoSpGa)))"
   ]
  },
  {
   "cell_type": "markdown",
   "metadata": {},
   "source": [
    "### b)\n",
    "\n",
    "compute the orbital period of the sun in Gyr using R$_o$ from the GRAVITY Collaboration (assume circular orbit)\n",
    "\n",
    "Note that 1 km/s $\\sim$ 1kpc/Gyr"
   ]
  },
  {
   "cell_type": "code",
   "execution_count": 6,
   "metadata": {},
   "outputs": [],
   "source": [
    "def TorbSun(R, V):\n",
    "    \"\"\"This function will compute the orbital period of the Sun\n",
    "            T = 2 pi R / V\n",
    "            \n",
    "        Inputs:\n",
    "            R: 'astropy quantity'\n",
    "                Distance in kpc to the galactic center\n",
    "            V: 'astropy quantity'\n",
    "                Velocity in km/s of the sun in V direction\n",
    "        Outputs:\n",
    "            T: 'astropy quantity'\n",
    "                orbital period of sun in Gyr\n",
    "    \"\"\"\n",
    "    VkpcGyr = V.to(u.kpc/u.Gyr) #convert velocity from km/s to kpc/Gyr\n",
    "    T = 2*np.pi*R /VkpcGyr # calculate T by dividing circumfrence of orbit by V\n",
    "    return T #return period T\n",
    "\n",
    "Vpeculiar =12.24 *u.km/u.s #listing perculiar motion of sun for later calculations\n",
    "Vsun = VLSR(RoGRAVITY)+Vpeculiar #getting tangential velocity of sun by summing desired VLSR nad peculiar motion\n"
   ]
  },
  {
   "cell_type": "code",
   "execution_count": 7,
   "metadata": {},
   "outputs": [
    {
     "name": "stdout",
     "output_type": "stream",
     "text": [
      "0.20318680562113045 Gyr\n"
     ]
    }
   ],
   "source": [
    "Tsun = TorbSun(8.178*u.kpc,Vsun) \n",
    "print(Tsun) #obtaining the period of sun at the given radius and printing"
   ]
  },
  {
   "cell_type": "markdown",
   "metadata": {},
   "source": [
    "### c)\n",
    "\n",
    "Compute the number of rotations about the GC over the age of the universe (13.8 Gyr)"
   ]
  },
  {
   "cell_type": "code",
   "execution_count": 8,
   "metadata": {},
   "outputs": [
    {
     "name": "stdout",
     "output_type": "stream",
     "text": [
      "67.91779593076524\n"
     ]
    }
   ],
   "source": [
    "age = 13.8*u.Gyr #storing the age of the universe in Gyr in program for later use\n",
    "rotation = age / Tsun #dividing the universe's age by the period of the sun to calculate the number of rotations\n",
    "print(rotation)"
   ]
  },
  {
   "cell_type": "markdown",
   "metadata": {},
   "source": [
    "## Part B  Dark Matter Density Profiles\n",
    "\n",
    "### a)\n",
    "Try out Fitting Rotation Curves \n",
    "[here](http://wittman.physics.ucdavis.edu/Animations/RotationCurve/GalacticRotation.html)\n",
    "\n",
    "\n",
    "### b)\n",
    "\n",
    "\n",
    "In the Isothermal Sphere model, what is the mass enclosed within the solar radius (R$_o$) in units of M$_\\odot$? \n",
    "\n",
    "Recall that for the Isothermal sphere :\n",
    "$\\rho(r) = \\frac{V_{LSR}^2}{4\\pi G r^2}$\n",
    "\n",
    "Where $G$ = 4.4985e-6 kpc$^3$/Gyr$^2$/M$_\\odot$, r is in kpc and $V_{LSR}$ is in km/s\n",
    "\n",
    "What about at 260 kpc (in units of  M$_\\odot$) ? "
   ]
  },
  {
   "cell_type": "code",
   "execution_count": 9,
   "metadata": {},
   "outputs": [],
   "source": [
    "Grav = const.G.to(u.kpc**3/u.Gyr**2/u.Msun)"
   ]
  },
  {
   "cell_type": "code",
   "execution_count": 10,
   "metadata": {},
   "outputs": [],
   "source": [
    "# density profile rho = VLSR^2 / 4 pi G r^2\n",
    "# mass = Integrate rho dV\n",
    "#      = rho 4*pi*r**2 dr\n",
    "#      = VLSR**2 /G (4*pi*r**2) *(4*pi*r**2) dr\n",
    "#      = VLSR**2 / G * r\n",
    "def MassIso(r,VLSR):\n",
    "    \"\"\" This funtion will compute the dark matter mass encloed within a given distance\n",
    "        assuming an isothermal sphere model for the dark matter\n",
    "        M = VLSR**2 / G * r\n",
    "        Inputs:\n",
    "        r: 'astropy quantity'\n",
    "            Distance to the galactic center (kpc)\n",
    "        VLSR: 'astropy quantity'\n",
    "            Velocity of the local standard of rest (km/s)\n",
    "        \n",
    "        Outputs:\n",
    "        M: Mass enclosed within r in units of Msun\n",
    "    \n",
    "    \n",
    "    \"\"\"\n",
    "    VLSRkpcGyr = VLSR.to(u.kpc/u.Gyr) #converting VLSR to kpc/Gyr\n",
    "    M = VLSRkpcGyr**2 / Grav * r # Mass for isothermal sphere\n",
    "    return M\n"
   ]
  },
  {
   "cell_type": "code",
   "execution_count": 11,
   "metadata": {},
   "outputs": [
    {
     "name": "stdout",
     "output_type": "stream",
     "text": [
      "105038025819.97612 solMass\n"
     ]
    }
   ],
   "source": [
    "MIsoSolar = MassIso(RoGRAVITY,VLSR(RoGRAVITY))\n",
    "print(MIsoSolar)"
   ]
  },
  {
   "cell_type": "code",
   "execution_count": 12,
   "metadata": {},
   "outputs": [
    {
     "name": "stdout",
     "output_type": "stream",
     "text": [
      "1.05e+11 solMass\n"
     ]
    }
   ],
   "source": [
    "#convert to scintific notation\n",
    "print(f'{MIsoSolar:.2e}')"
   ]
  },
  {
   "cell_type": "code",
   "execution_count": 13,
   "metadata": {},
   "outputs": [
    {
     "name": "stdout",
     "output_type": "stream",
     "text": [
      "3.34e+12 solMass\n"
     ]
    }
   ],
   "source": [
    "#compute mass within 260 kmpc\n",
    "MIso260 = MassIso(260*u.kpc,VLSR(RoGRAVITY))\n",
    "print(f'{MIso260:.2e}')"
   ]
  },
  {
   "cell_type": "markdown",
   "metadata": {},
   "source": [
    "## c) \n",
    "\n",
    "The Leo I satellite is one of the fastest moving satellite galaxies we know. \n",
    "\n",
    "\n",
    "It is moving with 3D velocity of magnitude: Vtot = 196 km/s at a distance of 260 kpc (Sohn 2013 ApJ 768)\n",
    "\n",
    "If we assume that Leo I is moving at the escape speed:\n",
    "\n",
    "$v_{esc}^2 = 2|\\Phi| = 2 \\int G \\frac{\\rho(r)}{r}dV $ \n",
    "\n",
    "and assuming the Milky Way is well modeled by a Hernquist Sphere with a scale radius of $a$= 30 kpc, what is the minimum mass of the Milky Way (in units of M$_\\odot$) ?  \n",
    "\n",
    "How does this compare to estimates of the mass assuming the Isothermal Sphere model at 260 kpc (from your answer above)"
   ]
  },
  {
   "cell_type": "code",
   "execution_count": 14,
   "metadata": {},
   "outputs": [],
   "source": [
    "# Potenital for a Hernquist Profile\n",
    "# phi = -G * M / (r+a)\n",
    "\n",
    "#using the potetntial for a Hernquist Profile, the equation for the escape speed becomes:\n",
    "#   Vesc**2 = 2*G*M / (r+a)\n",
    "\n",
    "#rearrange the escape speed eq for M\n",
    "# M = (Vesc**2) * (r+a) / (2 * G)\n",
    "\n",
    "def MassFromVesc(vesc,r,a):\n",
    "    \"\"\" This function determines the total mass needed for a given escape speed assuming a \n",
    "    Hernquis profile for the dark matter halo\n",
    "        M = (vesc**2)*(r+a) / (2 * G)\n",
    "    Inputs:\n",
    "        vesc: 'astropy quantity'\n",
    "            The escape speed in km/s or speed of the satellite\n",
    "        r: 'astropy quantity'\n",
    "            The distance from the Galactic Center(kpc)\n",
    "        a: 'astropy quantity'\n",
    "            the Hernquist scale length (kpc)\n",
    "        \n",
    "    Outputs:\n",
    "        M: 'astropy quantity'\n",
    "            Total mass wthin r in units of Msun\n",
    "        \"\"\"\n",
    "    vescKpcGyr = vesc.to(u.kpc/u.Gyr) # converting velocity to units of  kpc/Gyr\n",
    "    \n",
    "    M = vescKpcGyr**2/2/Grav*(r+a)\n",
    "    \n",
    "    return M"
   ]
  },
  {
   "cell_type": "code",
   "execution_count": 17,
   "metadata": {},
   "outputs": [],
   "source": [
    "VLeoI = 196*u.km/u.s #speed of Leo I\n",
    "a = 30*u.kpc # scale radius of the Herquist Halo\n",
    "r = 260*u.kpc # Glactocentric distance of Leo I"
   ]
  },
  {
   "cell_type": "code",
   "execution_count": 18,
   "metadata": {},
   "outputs": [
    {
     "name": "stdout",
     "output_type": "stream",
     "text": [
      "1295146976846.9578 solMass\n"
     ]
    }
   ],
   "source": [
    "# compute mass to keep LeoI bound :)\n",
    "\n",
    "MLeoI = MassFromVesc(VLeoI, r , a)\n",
    "print(MLeoI)"
   ]
  },
  {
   "cell_type": "code",
   "execution_count": 19,
   "metadata": {},
   "outputs": [
    {
     "name": "stdout",
     "output_type": "stream",
     "text": [
      "1.30e+12 solMass\n"
     ]
    }
   ],
   "source": [
    "print(f'{MLeoI:.2e}')"
   ]
  },
  {
   "cell_type": "code",
   "execution_count": 20,
   "metadata": {},
   "outputs": [
    {
     "data": {
      "text/latex": [
       "$2.5784204 \\; \\mathrm{}$"
      ],
      "text/plain": [
       "<Quantity 2.57842045>"
      ]
     },
     "execution_count": 20,
     "metadata": {},
     "output_type": "execute_result"
    }
   ],
   "source": [
    "MIso260/MLeoI"
   ]
  },
  {
   "cell_type": "code",
   "execution_count": null,
   "metadata": {},
   "outputs": [],
   "source": []
  }
 ],
 "metadata": {
  "kernelspec": {
   "display_name": "Python 3",
   "language": "python",
   "name": "python3"
  },
  "language_info": {
   "codemirror_mode": {
    "name": "ipython",
    "version": 3
   },
   "file_extension": ".py",
   "mimetype": "text/x-python",
   "name": "python",
   "nbconvert_exporter": "python",
   "pygments_lexer": "ipython3",
   "version": "3.8.3"
  }
 },
 "nbformat": 4,
 "nbformat_minor": 2
}
